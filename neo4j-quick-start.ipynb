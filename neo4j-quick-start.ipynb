{
 "cells": [
  {
   "cell_type": "code",
   "execution_count": 0,
   "metadata": {
    "application/vnd.databricks.v1+cell": {
     "cellMetadata": {
      "byteLimit": 2048000,
      "rowLimit": 10000
     },
     "inputWidgets": {},
     "nuid": "6772af5f-ebf1-4316-b453-5f0c252e7e71",
     "showTitle": false,
     "tableResultSettingsMap": {},
     "title": ""
    }
   },
   "outputs": [],
   "source": [
    "!pip install neo4j graphdatascience"
   ]
  },
  {
   "cell_type": "code",
   "execution_count": 0,
   "metadata": {
    "application/vnd.databricks.v1+cell": {
     "cellMetadata": {
      "byteLimit": 2048000,
      "rowLimit": 10000
     },
     "inputWidgets": {},
     "nuid": "1947ae37-33b7-4787-b929-9b2290f59abf",
     "showTitle": false,
     "tableResultSettingsMap": {},
     "title": ""
    }
   },
   "outputs": [],
   "source": [
    "%restart_python"
   ]
  },
  {
   "cell_type": "code",
   "execution_count": 0,
   "metadata": {
    "application/vnd.databricks.v1+cell": {
     "cellMetadata": {
      "byteLimit": 2048000,
      "rowLimit": 10000
     },
     "inputWidgets": {},
     "nuid": "18838a4b-cf59-4fe0-b32a-c16992abdcc0",
     "showTitle": false,
     "tableResultSettingsMap": {},
     "title": ""
    }
   },
   "outputs": [],
   "source": [
    "from pyspark.sql import SparkSession\n",
    "\n",
    "url = \"neo4j+s://0489c84a.databases.neo4j.io\"\n",
    "username = 'neo4j'\n",
    "password = '1DB0qlHazAtJgm89k7IzQ5NVgCXvUkc0vKvCdQxZwoo'\n",
    "dbname = 'neo4j'\n",
    "\n",
    "spark = (\n",
    "    SparkSession.builder.config(\"neo4j.url\", url)\n",
    "    .config(\"neo4j.authentication.basic.username\", username)\n",
    "    .config(\"neo4j.authentication.basic.password\", password)\n",
    "    .config(\"neo4j.database\", dbname)\n",
    "    .getOrCreate()\n",
    ")"
   ]
  },
  {
   "cell_type": "code",
   "execution_count": 0,
   "metadata": {
    "application/vnd.databricks.v1+cell": {
     "cellMetadata": {
      "byteLimit": 2048000,
      "rowLimit": 10000
     },
     "inputWidgets": {},
     "nuid": "344d8953-ccb0-4b48-9baa-07946908de26",
     "showTitle": false,
     "tableResultSettingsMap": {},
     "title": ""
    }
   },
   "outputs": [],
   "source": [
    "from graphdatascience.session import DbmsConnectionInfo, GdsSessions, AuraAPICredentials, SessionMemory\n",
    "neo4j_aura_project_id = \"ac7d1091-e574-5b61-842c-1fa087ca4a48\"\n",
    "sessions = GdsSessions(api_credentials=AuraAPICredentials(\"tRdrthUOZsp9k58mnjFjMthSXhUG7ouW\", \"wJt_Vxa22ATaH2aAO_bFKz6sZYBiIu7eOLcDOG1H9HNzrivKtizkp-5QAnQiRiva\",project_id=neo4j_aura_project_id))\n",
    "gds = sessions.get_or_create(\n",
    "    session_name=\"gs-gds-session\",\n",
    "    memory=SessionMemory.m_4GB,\n",
    "    db_connection=DbmsConnectionInfo(url,username, password)\n",
    ")\n",
    "\n",
    "gds.list()"
   ]
  },
  {
   "cell_type": "code",
   "execution_count": 0,
   "metadata": {
    "application/vnd.databricks.v1+cell": {
     "cellMetadata": {
      "byteLimit": 2048000,
      "rowLimit": 10000
     },
     "inputWidgets": {},
     "nuid": "04fffe96-2162-4f99-8c79-364e92d6596a",
     "showTitle": false,
     "tableResultSettingsMap": {},
     "title": ""
    }
   },
   "outputs": [],
   "source": [
    "gds.run_cypher(\n",
    "    \"\"\"\n",
    "    CREATE\n",
    "     (u1:User {name: 'Mats'}),\n",
    "     (u2:User {name: 'Florentin'}),\n",
    "     (p1:Product {name: 'ice cream', cost: 4.2}),\n",
    "     (p2:Product {name: 'computer', cost: 13.37})\n",
    "\n",
    "    CREATE\n",
    "     (u1)-[:KNOWS {since: 2020}]->(u2),\n",
    "     (u2)-[:BOUGHT {price: 7474}]->(p1),\n",
    "     (u1)-[:BOUGHT {price: 1337}]->(p2)\n",
    "    \"\"\"\n",
    ")\n",
    "\n",
    "G, result = gds.graph.project(\n",
    "    graph_name=\"my-graph\",\n",
    "    query=\"\"\"\n",
    "    CALL {\n",
    "        MATCH (u1:User)\n",
    "        OPTIONAL MATCH (u1)-[r:KNOWS]->(u2:User)\n",
    "        RETURN u1 AS source, r AS rel, u2 AS target, {} AS sourceNodeProperties, {} AS targetNodeProperties\n",
    "        UNION\n",
    "        MATCH (p:Product)\n",
    "        OPTIONAL MATCH (p)<-[r:BOUGHT]-(user:User)\n",
    "        RETURN user AS source, r AS rel, p AS target, {} AS sourceNodeProperties, {cost: p.cost} AS targetNodeProperties\n",
    "    }\n",
    "    RETURN gds.graph.project.remote(source, target, {\n",
    "      sourceNodeProperties: sourceNodeProperties,\n",
    "      targetNodeProperties: targetNodeProperties,\n",
    "      sourceNodeLabels: labels(source),\n",
    "      targetNodeLabels: labels(target),\n",
    "      relationshipType: type(rel),\n",
    "      relationshipProperties: properties(rel)\n",
    "    })\n",
    "    \"\"\",\n",
    ")"
   ]
  },
  {
   "cell_type": "code",
   "execution_count": 0,
   "metadata": {
    "application/vnd.databricks.v1+cell": {
     "cellMetadata": {
      "byteLimit": 2048000,
      "rowLimit": 10000
     },
     "inputWidgets": {},
     "nuid": "e285387a-aea1-4422-915d-41882670309a",
     "showTitle": false,
     "tableResultSettingsMap": {},
     "title": ""
    }
   },
   "outputs": [],
   "source": [
    "gds.pageRank.mutate(G, mutateProperty=\"pr\")\n",
    "gds.fastRP.mutate(G, featureProperties=[\"pr\"], embeddingDimension=2, nodeSelfInfluence=0.1, mutateProperty=\"embedding\")\n",
    "\n",
    "# Stream the results back together with the `name` property fetched from the database\n",
    "gds.graph.nodeProperties.stream(G, db_node_properties=[\"name\"], node_properties=[\"pr\", \"embedding\"])"
   ]
  },
  {
   "cell_type": "code",
   "execution_count": 0,
   "metadata": {
    "application/vnd.databricks.v1+cell": {
     "cellMetadata": {
      "byteLimit": 2048000,
      "rowLimit": 10000
     },
     "inputWidgets": {},
     "nuid": "bede4b65-7c51-4869-b989-45263358b404",
     "showTitle": false,
     "tableResultSettingsMap": {},
     "title": ""
    }
   },
   "outputs": [],
   "source": [
    "gds.graph.nodeProperties.write(G, \"embedding\")"
   ]
  },
  {
   "cell_type": "code",
   "execution_count": 0,
   "metadata": {
    "application/vnd.databricks.v1+cell": {
     "cellMetadata": {
      "byteLimit": 2048000,
      "rowLimit": 10000
     },
     "inputWidgets": {},
     "nuid": "12597223-eda1-4f44-a7cd-4603c10cd860",
     "showTitle": false,
     "tableResultSettingsMap": {},
     "title": ""
    }
   },
   "outputs": [],
   "source": [
    "spark.sql(\"USE CATALOG data_pioneers\")\n",
    "\n",
    "# Now you can r ead the table without the catalog prefix\n",
    "tableDF = spark.read.table(\"c360.churn_users\")\n",
    "\n",
    "tableDF"
   ]
  },
  {
   "cell_type": "code",
   "execution_count": 0,
   "metadata": {
    "application/vnd.databricks.v1+cell": {
     "cellMetadata": {},
     "inputWidgets": {},
     "nuid": "2fab5a2e-98af-4d43-9a60-e595803dd202",
     "showTitle": false,
     "tableResultSettingsMap": {},
     "title": ""
    }
   },
   "outputs": [],
   "source": []
  }
 ],
 "metadata": {
  "application/vnd.databricks.v1+notebook": {
   "computePreferences": {
    "hardware": {
     "accelerator": null,
     "gpuPoolId": null,
     "memory": null
    }
   },
   "dashboards": [],
   "environmentMetadata": {
    "base_environment": "",
    "dependencies": [
     "-r /Workspace/Users/guhan.sivaji@neo4j.com/requirements.txt"
    ],
    "environment_version": "3"
   },
   "inputWidgetPreferences": null,
   "language": "python",
   "notebookMetadata": {
    "pythonIndentUnit": 4
   },
   "notebookName": "neo4j-quick-start",
   "widgets": {}
  },
  "language_info": {
   "name": "python"
  }
 },
 "nbformat": 4,
 "nbformat_minor": 0
}